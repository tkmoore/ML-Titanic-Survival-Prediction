{
 "cells": [
  {
   "cell_type": "markdown",
   "id": "1618b810",
   "metadata": {},
   "source": [
    "### Imports & helpers"
   ]
  },
  {
   "cell_type": "code",
   "execution_count": 2,
   "id": "5efbd95e",
   "metadata": {},
   "outputs": [],
   "source": [
    "import pandas as pd\n",
    "import numpy as np\n",
    "import matplotlib.pyplot as plt\n",
    "\n",
    "from sklearn.model_selection import train_test_split, GridSearchCV\n",
    "from sklearn.compose import ColumnTransformer\n",
    "from sklearn.pipeline import Pipeline\n",
    "from sklearn.impute import SimpleImputer\n",
    "from sklearn.preprocessing import OneHotEncoder, StandardScaler\n",
    "from sklearn.metrics import (accuracy_score, precision_score, recall_score, \n",
    "                             f1_score, roc_auc_score, confusion_matrix, RocCurveDisplay)\n",
    "from sklearn.linear_model import LogisticRegression\n",
    "from sklearn.tree import DecisionTreeClassifier\n",
    "\n",
    "pd.set_option(\"display.max_columns\", 100)\n",
    "\n",
    "def print_metrics(y_true, y_pred, y_proba=None, label=\"\"):\n",
    "    \"\"\"Convenience function to print classification metrics.\"\"\"\n",
    "    acc = accuracy_score(y_true, y_pred)\n",
    "    prec = precision_score(y_true, y_pred, zero_division=0)\n",
    "    rec = recall_score(y_true, y_pred, zero_division=0)\n",
    "    f1 = f1_score(y_true, y_pred, zero_division=0)\n",
    "    msg = f\"[{label}] Acc={acc:.3f} | Prec={prec:.3f} | Rec={rec:.3f} | F1={f1:.3f}\"\n",
    "    if y_proba is not None:\n",
    "        auc = roc_auc_score(y_true, y_proba)\n",
    "        msg += f\" | ROC-AUC={auc:.3f}\"\n",
    "    print(msg)\n"
   ]
  },
  {
   "cell_type": "markdown",
   "id": "61214e3f",
   "metadata": {},
   "source": [
    "### Load Data"
   ]
  },
  {
   "cell_type": "code",
   "execution_count": 3,
   "id": "81ddaeb1",
   "metadata": {},
   "outputs": [
    {
     "name": "stdout",
     "output_type": "stream",
     "text": [
      "(891, 12) (418, 11)\n"
     ]
    },
    {
     "data": {
      "text/html": [
       "<div>\n",
       "<style scoped>\n",
       "    .dataframe tbody tr th:only-of-type {\n",
       "        vertical-align: middle;\n",
       "    }\n",
       "\n",
       "    .dataframe tbody tr th {\n",
       "        vertical-align: top;\n",
       "    }\n",
       "\n",
       "    .dataframe thead th {\n",
       "        text-align: right;\n",
       "    }\n",
       "</style>\n",
       "<table border=\"1\" class=\"dataframe\">\n",
       "  <thead>\n",
       "    <tr style=\"text-align: right;\">\n",
       "      <th></th>\n",
       "      <th>PassengerId</th>\n",
       "      <th>Survived</th>\n",
       "      <th>Pclass</th>\n",
       "      <th>Name</th>\n",
       "      <th>Sex</th>\n",
       "      <th>Age</th>\n",
       "      <th>SibSp</th>\n",
       "      <th>Parch</th>\n",
       "      <th>Ticket</th>\n",
       "      <th>Fare</th>\n",
       "      <th>Cabin</th>\n",
       "      <th>Embarked</th>\n",
       "    </tr>\n",
       "  </thead>\n",
       "  <tbody>\n",
       "    <tr>\n",
       "      <th>0</th>\n",
       "      <td>1</td>\n",
       "      <td>0</td>\n",
       "      <td>3</td>\n",
       "      <td>Braund, Mr. Owen Harris</td>\n",
       "      <td>male</td>\n",
       "      <td>22.0</td>\n",
       "      <td>1</td>\n",
       "      <td>0</td>\n",
       "      <td>A/5 21171</td>\n",
       "      <td>7.2500</td>\n",
       "      <td>NaN</td>\n",
       "      <td>S</td>\n",
       "    </tr>\n",
       "    <tr>\n",
       "      <th>1</th>\n",
       "      <td>2</td>\n",
       "      <td>1</td>\n",
       "      <td>1</td>\n",
       "      <td>Cumings, Mrs. John Bradley (Florence Briggs Th...</td>\n",
       "      <td>female</td>\n",
       "      <td>38.0</td>\n",
       "      <td>1</td>\n",
       "      <td>0</td>\n",
       "      <td>PC 17599</td>\n",
       "      <td>71.2833</td>\n",
       "      <td>C85</td>\n",
       "      <td>C</td>\n",
       "    </tr>\n",
       "    <tr>\n",
       "      <th>2</th>\n",
       "      <td>3</td>\n",
       "      <td>1</td>\n",
       "      <td>3</td>\n",
       "      <td>Heikkinen, Miss. Laina</td>\n",
       "      <td>female</td>\n",
       "      <td>26.0</td>\n",
       "      <td>0</td>\n",
       "      <td>0</td>\n",
       "      <td>STON/O2. 3101282</td>\n",
       "      <td>7.9250</td>\n",
       "      <td>NaN</td>\n",
       "      <td>S</td>\n",
       "    </tr>\n",
       "    <tr>\n",
       "      <th>3</th>\n",
       "      <td>4</td>\n",
       "      <td>1</td>\n",
       "      <td>1</td>\n",
       "      <td>Futrelle, Mrs. Jacques Heath (Lily May Peel)</td>\n",
       "      <td>female</td>\n",
       "      <td>35.0</td>\n",
       "      <td>1</td>\n",
       "      <td>0</td>\n",
       "      <td>113803</td>\n",
       "      <td>53.1000</td>\n",
       "      <td>C123</td>\n",
       "      <td>S</td>\n",
       "    </tr>\n",
       "    <tr>\n",
       "      <th>4</th>\n",
       "      <td>5</td>\n",
       "      <td>0</td>\n",
       "      <td>3</td>\n",
       "      <td>Allen, Mr. William Henry</td>\n",
       "      <td>male</td>\n",
       "      <td>35.0</td>\n",
       "      <td>0</td>\n",
       "      <td>0</td>\n",
       "      <td>373450</td>\n",
       "      <td>8.0500</td>\n",
       "      <td>NaN</td>\n",
       "      <td>S</td>\n",
       "    </tr>\n",
       "  </tbody>\n",
       "</table>\n",
       "</div>"
      ],
      "text/plain": [
       "   PassengerId  Survived  Pclass  \\\n",
       "0            1         0       3   \n",
       "1            2         1       1   \n",
       "2            3         1       3   \n",
       "3            4         1       1   \n",
       "4            5         0       3   \n",
       "\n",
       "                                                Name     Sex   Age  SibSp  \\\n",
       "0                            Braund, Mr. Owen Harris    male  22.0      1   \n",
       "1  Cumings, Mrs. John Bradley (Florence Briggs Th...  female  38.0      1   \n",
       "2                             Heikkinen, Miss. Laina  female  26.0      0   \n",
       "3       Futrelle, Mrs. Jacques Heath (Lily May Peel)  female  35.0      1   \n",
       "4                           Allen, Mr. William Henry    male  35.0      0   \n",
       "\n",
       "   Parch            Ticket     Fare Cabin Embarked  \n",
       "0      0         A/5 21171   7.2500   NaN        S  \n",
       "1      0          PC 17599  71.2833   C85        C  \n",
       "2      0  STON/O2. 3101282   7.9250   NaN        S  \n",
       "3      0            113803  53.1000  C123        S  \n",
       "4      0            373450   8.0500   NaN        S  "
      ]
     },
     "execution_count": 3,
     "metadata": {},
     "output_type": "execute_result"
    }
   ],
   "source": [
    "train = pd.read_csv(\"train.csv\")  # has Survived\n",
    "test  = pd.read_csv(\"test.csv\")   # no Survived; for submission\n",
    "\n",
    "print(train.shape, test.shape)\n",
    "train.head()\n"
   ]
  },
  {
   "cell_type": "code",
   "execution_count": 4,
   "id": "373ae51a",
   "metadata": {},
   "outputs": [
    {
     "name": "stdout",
     "output_type": "stream",
     "text": [
      "<class 'pandas.core.frame.DataFrame'>\n",
      "RangeIndex: 891 entries, 0 to 890\n",
      "Data columns (total 12 columns):\n",
      " #   Column       Non-Null Count  Dtype  \n",
      "---  ------       --------------  -----  \n",
      " 0   PassengerId  891 non-null    int64  \n",
      " 1   Survived     891 non-null    int64  \n",
      " 2   Pclass       891 non-null    int64  \n",
      " 3   Name         891 non-null    object \n",
      " 4   Sex          891 non-null    object \n",
      " 5   Age          714 non-null    float64\n",
      " 6   SibSp        891 non-null    int64  \n",
      " 7   Parch        891 non-null    int64  \n",
      " 8   Ticket       891 non-null    object \n",
      " 9   Fare         891 non-null    float64\n",
      " 10  Cabin        204 non-null    object \n",
      " 11  Embarked     889 non-null    object \n",
      "dtypes: float64(2), int64(5), object(5)\n",
      "memory usage: 83.7+ KB\n"
     ]
    },
    {
     "data": {
      "text/plain": [
       "Cabin          0.771044\n",
       "Age            0.198653\n",
       "Embarked       0.002245\n",
       "PassengerId    0.000000\n",
       "Survived       0.000000\n",
       "Pclass         0.000000\n",
       "Name           0.000000\n",
       "Sex            0.000000\n",
       "SibSp          0.000000\n",
       "Parch          0.000000\n",
       "dtype: float64"
      ]
     },
     "execution_count": 4,
     "metadata": {},
     "output_type": "execute_result"
    }
   ],
   "source": [
    "train.info()\n",
    "train.describe(include=\"all\").T\n",
    "train.isna().mean().sort_values(ascending=False).head(10)\n"
   ]
  },
  {
   "cell_type": "markdown",
   "id": "72f24ce9",
   "metadata": {},
   "source": [
    "**What you’ll notice**:\n",
    "\n",
    "* `Age` and `Cabin` have missing values; `Embarked` sometimes missing.\n",
    "* `Survived` is the target (0 = no, 1 = yes)."
   ]
  },
  {
   "cell_type": "code",
   "execution_count": 5,
   "id": "01fc2519",
   "metadata": {},
   "outputs": [
    {
     "data": {
      "text/html": [
       "<div>\n",
       "<style scoped>\n",
       "    .dataframe tbody tr th:only-of-type {\n",
       "        vertical-align: middle;\n",
       "    }\n",
       "\n",
       "    .dataframe tbody tr th {\n",
       "        vertical-align: top;\n",
       "    }\n",
       "\n",
       "    .dataframe thead th {\n",
       "        text-align: right;\n",
       "    }\n",
       "</style>\n",
       "<table border=\"1\" class=\"dataframe\">\n",
       "  <thead>\n",
       "    <tr style=\"text-align: right;\">\n",
       "      <th>Survived</th>\n",
       "      <th>0</th>\n",
       "      <th>1</th>\n",
       "    </tr>\n",
       "    <tr>\n",
       "      <th>Sex</th>\n",
       "      <th></th>\n",
       "      <th></th>\n",
       "    </tr>\n",
       "  </thead>\n",
       "  <tbody>\n",
       "    <tr>\n",
       "      <th>female</th>\n",
       "      <td>0.258</td>\n",
       "      <td>0.742</td>\n",
       "    </tr>\n",
       "    <tr>\n",
       "      <th>male</th>\n",
       "      <td>0.811</td>\n",
       "      <td>0.189</td>\n",
       "    </tr>\n",
       "  </tbody>\n",
       "</table>\n",
       "</div>"
      ],
      "text/plain": [
       "Survived      0      1\n",
       "Sex                   \n",
       "female    0.258  0.742\n",
       "male      0.811  0.189"
      ]
     },
     "execution_count": 5,
     "metadata": {},
     "output_type": "execute_result"
    }
   ],
   "source": [
    "# Survival rate overall\n",
    "train['Survived'].mean()\n",
    "\n",
    "# By Sex\n",
    "train.groupby('Sex')['Survived'].mean().sort_values(ascending=False)\n",
    "\n",
    "# By Pclass (1=upper, 3=lower)\n",
    "train.groupby('Pclass')['Survived'].mean()\n",
    "\n",
    "# Cross-tab: Sex vs Survived\n",
    "pd.crosstab(train['Sex'], train['Survived'], normalize='index').round(3)\n"
   ]
  },
  {
   "cell_type": "code",
   "execution_count": 6,
   "id": "37519fbd",
   "metadata": {},
   "outputs": [
    {
     "data": {
      "image/png": "[encoded data removed]",
      "text/plain": [
       "<Figure size 640x480 with 1 Axes>"
      ]
     },
     "metadata": {},
     "output_type": "display_data"
    },
    {
     "data": {
      "image/png": "[encoded data removed]",
      "text/plain": [
       "<Figure size 640x480 with 1 Axes>"
      ]
     },
     "metadata": {},
     "output_type": "display_data"
    }
   ],
   "source": [
    "# Simple plots\n",
    "train.groupby('Sex')['Survived'].mean().plot(kind='bar', title='Survival rate by Sex')\n",
    "plt.ylabel('Rate'); plt.show()\n",
    "\n",
    "train.groupby('Pclass')['Survived'].mean().plot(kind='bar', title='Survival rate by Pclass')\n",
    "plt.ylabel('Rate'); plt.show()\n"
   ]
  },
  {
   "cell_type": "markdown",
   "id": "94d63c06",
   "metadata": {},
   "source": [
    "Based on these results, it appears that women and 1st-class passengers had higher survival. This could indicate that `Sex`, `Pclass`, and `Fare` are strong features."
   ]
  },
  {
   "cell_type": "markdown",
   "id": "fcb0d926",
   "metadata": {},
   "source": [
    "### Some feature engineering\n",
    "\n",
    "Two helpful features seen in many Titanic kernels are `FamilySizes` and `IsAlone`\n",
    "\n",
    "* **FamilySize** = `SibSp + Parch + 1`\n",
    "* **IsAlone** = 1 if FamilySize == 1 else 0\n",
    "\n",
    "* **sibsp**: The dataset defines family relations in this way...\n",
    "Sibling = brother, sister, stepbrother, stepsister\n",
    "Spouse = husband, wife (mistresses and fiancés were ignored)\n",
    "\n",
    "* **parch**: The dataset defines family relations in this way...\n",
    "Parent = mother, father\n",
    "Child = daughter, son, stepdaughter, stepson\n",
    "Some children travelled only with a nanny, therefore parch=0 for them."
   ]
  },
  {
   "cell_type": "code",
   "execution_count": 7,
   "id": "babc53be",
   "metadata": {},
   "outputs": [
    {
     "data": {
      "text/html": [
       "<div>\n",
       "<style scoped>\n",
       "    .dataframe tbody tr th:only-of-type {\n",
       "        vertical-align: middle;\n",
       "    }\n",
       "\n",
       "    .dataframe tbody tr th {\n",
       "        vertical-align: top;\n",
       "    }\n",
       "\n",
       "    .dataframe thead th {\n",
       "        text-align: right;\n",
       "    }\n",
       "</style>\n",
       "<table border=\"1\" class=\"dataframe\">\n",
       "  <thead>\n",
       "    <tr style=\"text-align: right;\">\n",
       "      <th></th>\n",
       "      <th>SibSp</th>\n",
       "      <th>Parch</th>\n",
       "      <th>FamilySize</th>\n",
       "      <th>IsAlone</th>\n",
       "      <th>Survived</th>\n",
       "    </tr>\n",
       "  </thead>\n",
       "  <tbody>\n",
       "    <tr>\n",
       "      <th>0</th>\n",
       "      <td>1</td>\n",
       "      <td>0</td>\n",
       "      <td>2</td>\n",
       "      <td>0</td>\n",
       "      <td>0</td>\n",
       "    </tr>\n",
       "    <tr>\n",
       "      <th>1</th>\n",
       "      <td>1</td>\n",
       "      <td>0</td>\n",
       "      <td>2</td>\n",
       "      <td>0</td>\n",
       "      <td>1</td>\n",
       "    </tr>\n",
       "    <tr>\n",
       "      <th>2</th>\n",
       "      <td>0</td>\n",
       "      <td>0</td>\n",
       "      <td>1</td>\n",
       "      <td>1</td>\n",
       "      <td>1</td>\n",
       "    </tr>\n",
       "    <tr>\n",
       "      <th>3</th>\n",
       "      <td>1</td>\n",
       "      <td>0</td>\n",
       "      <td>2</td>\n",
       "      <td>0</td>\n",
       "      <td>1</td>\n",
       "    </tr>\n",
       "    <tr>\n",
       "      <th>4</th>\n",
       "      <td>0</td>\n",
       "      <td>0</td>\n",
       "      <td>1</td>\n",
       "      <td>1</td>\n",
       "      <td>0</td>\n",
       "    </tr>\n",
       "  </tbody>\n",
       "</table>\n",
       "</div>"
      ],
      "text/plain": [
       "   SibSp  Parch  FamilySize  IsAlone  Survived\n",
       "0      1      0           2        0         0\n",
       "1      1      0           2        0         1\n",
       "2      0      0           1        1         1\n",
       "3      1      0           2        0         1\n",
       "4      0      0           1        1         0"
      ]
     },
     "execution_count": 7,
     "metadata": {},
     "output_type": "execute_result"
    }
   ],
   "source": [
    "def add_simple_features(df: pd.DataFrame) -> pd.DataFrame:\n",
    "    out = df.copy()\n",
    "    out['FamilySize'] = out['SibSp'] + out['Parch'] + 1\n",
    "    out['IsAlone'] = (out['FamilySize'] == 1).astype(int)\n",
    "    return out\n",
    "\n",
    "train_fe = add_simple_features(train)\n",
    "test_fe  = add_simple_features(test)\n",
    "\n",
    "train_fe[['SibSp','Parch','FamilySize','IsAlone','Survived']].head()\n"
   ]
  },
  {
   "cell_type": "markdown",
   "id": "ecaed6c6",
   "metadata": {},
   "source": [
    "### Baseline\n",
    "\n",
    "A **baseline** is a simple rule to beat. A naive one: predict everyone **not** survived (the majority class)."
   ]
  },
  {
   "cell_type": "code",
   "execution_count": 8,
   "id": "123d1094",
   "metadata": {},
   "outputs": [
    {
     "name": "stdout",
     "output_type": "stream",
     "text": [
      "Baseline accuracy (predict all 0): 0.616\n"
     ]
    }
   ],
   "source": [
    "majority_class = train_fe['Survived'].mode()[0]\n",
    "baseline_acc = (train_fe['Survived'] == majority_class).mean()\n",
    "print(f\"Baseline accuracy (predict all {majority_class}): {baseline_acc:.3f}\")\n"
   ]
  },
  {
   "cell_type": "markdown",
   "id": "4de36ad9",
   "metadata": {},
   "source": [
    "### Validation split\n",
    "\n",
    "We’ll keep a **validation** set to evaluate models before touching the official `test.csv`."
   ]
  },
  {
   "cell_type": "code",
   "execution_count": 9,
   "id": "d7068313",
   "metadata": {},
   "outputs": [
    {
     "data": {
      "text/plain": [
       "((712, 9), (179, 9))"
      ]
     },
     "execution_count": 9,
     "metadata": {},
     "output_type": "execute_result"
    }
   ],
   "source": [
    "FEATURES = ['Pclass','Sex','Age','SibSp','Parch','Fare','Embarked','FamilySize','IsAlone']\n",
    "TARGET   = 'Survived'\n",
    "\n",
    "X = train_fe[FEATURES]\n",
    "y = train_fe[TARGET]\n",
    "\n",
    "X_train, X_val, y_train, y_val = train_test_split(\n",
    "    X, y, test_size=0.2, random_state=42, stratify=y\n",
    ")\n",
    "X_train.shape, X_val.shape\n"
   ]
  },
  {
   "cell_type": "markdown",
   "id": "d5f53ebc",
   "metadata": {},
   "source": [
    "### Preprocessing with `ColumnTransformer` + `Pipeline`\n",
    "\n",
    "* `ColumnTransformer`: [Applies transformers to columns of an array or pandas DataFrame.](https://scikit-learn.org/stable/modules/generated/sklearn.compose.ColumnTransformer.html)\n",
    "* `Pipeline`: [A sequence of data transformers with an optional final predictor.](https://scikit-learn.org/stable/modules/generated/sklearn.pipeline.Pipeline.html)\n",
    "\n",
    "* **Numeric**: impute missing with median; optionally scale for LR.\n",
    "* **Categorical**: impute with most frequent; one-hot encode."
   ]
  },
  {
   "cell_type": "code",
   "execution_count": 10,
   "id": "ef57c19b",
   "metadata": {},
   "outputs": [],
   "source": [
    "numeric_features = ['Age','SibSp','Parch','Fare','FamilySize']\n",
    "categorical_features = ['Pclass','Sex','Embarked','IsAlone']\n",
    "\n",
    "numeric_transformer = Pipeline(steps=[\n",
    "    ('imputer', SimpleImputer(strategy='median')),\n",
    "    ('scaler', StandardScaler(with_mean=False))  # with_mean=False keeps sparse compatibility\n",
    "])\n",
    "\n",
    "categorical_transformer = Pipeline(steps=[\n",
    "    ('imputer', SimpleImputer(strategy='most_frequent')),\n",
    "    ('ohe', OneHotEncoder(handle_unknown='ignore'))\n",
    "])\n",
    "\n",
    "preprocess = ColumnTransformer(\n",
    "    transformers=[\n",
    "        ('num', numeric_transformer, numeric_features),\n",
    "        ('cat', categorical_transformer, categorical_features),\n",
    "    ]\n",
    ")\n"
   ]
  },
  {
   "cell_type": "markdown",
   "id": "cea628aa",
   "metadata": {},
   "source": [
    "### Simple models\n",
    "\n",
    "#### Logistic Regression"
   ]
  },
  {
   "cell_type": "code",
   "execution_count": 11,
   "id": "2fb1edcb",
   "metadata": {},
   "outputs": [
    {
     "name": "stdout",
     "output_type": "stream",
     "text": [
      "[LogReg] Acc=0.816 | Prec=0.810 | Rec=0.681 | F1=0.740 | ROC-AUC=0.850\n"
     ]
    }
   ],
   "source": [
    "log_reg_clf = Pipeline(steps=[\n",
    "    ('prep', preprocess),\n",
    "    ('model', LogisticRegression(max_iter=1000))\n",
    "])\n",
    "\n",
    "log_reg_clf.fit(X_train, y_train)\n",
    "y_val_pred = log_reg_clf.predict(X_val)\n",
    "y_val_proba = log_reg_clf.predict_proba(X_val)[:,1]\n",
    "\n",
    "print_metrics(y_val, y_val_pred, y_val_proba, label=\"LogReg\")\n"
   ]
  },
  {
   "cell_type": "markdown",
   "id": "3962cfaf",
   "metadata": {},
   "source": [
    "#### Decision Tree"
   ]
  },
  {
   "cell_type": "code",
   "execution_count": 12,
   "id": "1c5adf95",
   "metadata": {},
   "outputs": [
    {
     "name": "stdout",
     "output_type": "stream",
     "text": [
      "[DecisionTree] Acc=0.771 | Prec=0.706 | Rec=0.696 | F1=0.701 | ROC-AUC=0.749\n"
     ]
    }
   ],
   "source": [
    "tree_clf = Pipeline(steps=[\n",
    "    ('prep', preprocess),\n",
    "    ('model', DecisionTreeClassifier(random_state=42))\n",
    "])\n",
    "\n",
    "tree_clf.fit(X_train, y_train)\n",
    "y_val_pred_t = tree_clf.predict(X_val)\n",
    "y_val_proba_t = tree_clf.predict_proba(X_val)[:,1]\n",
    "\n",
    "print_metrics(y_val, y_val_pred_t, y_val_proba_t, label=\"DecisionTree\")\n"
   ]
  },
  {
   "cell_type": "markdown",
   "id": "c48fd3ec",
   "metadata": {},
   "source": [
    "#### ROC Curve"
   ]
  },
  {
   "cell_type": "code",
   "execution_count": 13,
   "id": "0c2a3042",
   "metadata": {},
   "outputs": [
    {
     "data": {
      "image/png": "[encoded data removed]",
      "text/plain": [
       "<Figure size 640x480 with 1 Axes>"
      ]
     },
     "metadata": {},
     "output_type": "display_data"
    }
   ],
   "source": [
    "disp = RocCurveDisplay.from_estimator(log_reg_clf, X_val, y_val)\n",
    "plt.title(\"ROC Curve — Logistic Regression\")\n",
    "plt.show()\n"
   ]
  },
  {
   "cell_type": "markdown",
   "id": "091357fb",
   "metadata": {},
   "source": [
    "### Hyperparameter tuning with `GridSearchCV`\n",
    "\n",
    "* **GridSearchCV** implements a “fit” and a “score” method. It also implements “score_samples”, “predict”, “predict_proba”, “decision_function”, “transform” and “inverse_transform” if they are implemented in the estimator used.\n",
    "\n",
    "    The parameters of the estimator used to apply these methods are optimized by cross-validated grid-search over a parameter grid.\n",
    "\n",
    "\n",
    "In this step I'll use cross-validation to search a grid of options."
   ]
  },
  {
   "cell_type": "code",
   "execution_count": 14,
   "id": "a4d8e6b2",
   "metadata": {},
   "outputs": [
    {
     "name": "stdout",
     "output_type": "stream",
     "text": [
      "Best LR params: {'model__C': 1.0, 'model__penalty': 'l2', 'model__solver': 'lbfgs'}\n",
      "[GridSearch LR] Acc=0.816 | Prec=0.810 | Rec=0.681 | F1=0.740 | ROC-AUC=0.850\n"
     ]
    }
   ],
   "source": [
    "param_grid_lr = {\n",
    "    'model__C': [0.1, 1.0, 3.0, 10.0],\n",
    "    'model__penalty': ['l2'],  # (liblinear supports l1; saga supports l1/l2)\n",
    "    'model__solver': ['lbfgs'] # standard for l2\n",
    "}\n",
    "\n",
    "grid_lr = GridSearchCV(\n",
    "    Pipeline(steps=[('prep', preprocess),\n",
    "                   ('model', LogisticRegression(max_iter=2000))]),\n",
    "    param_grid=param_grid_lr,\n",
    "    cv=5,\n",
    "    scoring='roc_auc',\n",
    "    n_jobs=-1\n",
    ")\n",
    "\n",
    "grid_lr.fit(X_train, y_train)\n",
    "print(\"Best LR params:\", grid_lr.best_params_)\n",
    "y_pred = grid_lr.predict(X_val)\n",
    "y_proba = grid_lr.predict_proba(X_val)[:,1]\n",
    "print_metrics(y_val, y_pred, y_proba, label=\"GridSearch LR\")\n"
   ]
  },
  {
   "cell_type": "markdown",
   "id": "5eea86e5",
   "metadata": {},
   "source": [
    "Quick tree search:"
   ]
  },
  {
   "cell_type": "code",
   "execution_count": 15,
   "id": "d16adef3",
   "metadata": {},
   "outputs": [
    {
     "name": "stdout",
     "output_type": "stream",
     "text": [
      "Best Tree params: {'model__max_depth': 3, 'model__min_samples_leaf': 4, 'model__min_samples_split': 2}\n",
      "[GridSearch Tree] Acc=0.804 | Prec=0.804 | Rec=0.652 | F1=0.720 | ROC-AUC=0.823\n"
     ]
    }
   ],
   "source": [
    "param_grid_tree = {\n",
    "    'model__max_depth': [3, 4, 5, 6, None],\n",
    "    'model__min_samples_split': [2, 5, 10],\n",
    "    'model__min_samples_leaf': [1, 2, 4]\n",
    "}\n",
    "\n",
    "grid_tree = GridSearchCV(\n",
    "    Pipeline(steps=[('prep', preprocess),\n",
    "                   ('model', DecisionTreeClassifier(random_state=42))]),\n",
    "    param_grid=param_grid_tree,\n",
    "    cv=5,\n",
    "    scoring='roc_auc',\n",
    "    n_jobs=-1\n",
    ")\n",
    "\n",
    "grid_tree.fit(X_train, y_train)\n",
    "print(\"Best Tree params:\", grid_tree.best_params_)\n",
    "y_pred_t = grid_tree.predict(X_val)\n",
    "y_proba_t = grid_tree.predict_proba(X_val)[:,1]\n",
    "print_metrics(y_val, y_pred_t, y_proba_t, label=\"GridSearch Tree\")\n"
   ]
  },
  {
   "cell_type": "markdown",
   "id": "9b1df78e",
   "metadata": {},
   "source": [
    "The **Logistic Regression (LR)** model clearly shows better validation performance overall. Let’s compare metric by metric:\n",
    "\n",
    "| Metric    | Logistic Regression | Decision Tree |         Better         |\n",
    "| :-------- | :-----------------: | :-----------: | :--------------------: |\n",
    "| Accuracy  |      **0.816**      |     0.804     |          LR            |\n",
    "| Precision |      **0.810**      |     0.804     |          LR            |\n",
    "| Recall    |      **0.681**      |     0.652     |          LR            |\n",
    "| F1        |      **0.740**      |     0.720     |          LR            |\n",
    "| ROC-AUC   |      **0.850**      |     0.823     |          LR            |\n",
    "\n",
    "### Interpretation\n",
    "\n",
    "* **Across all metrics**, the Logistic Regression model outperforms the Decision Tree, indicating it generalizes better on the validation set.\n",
    "* The **higher ROC-AUC (0.85)** suggests the LR model ranks positives vs. negatives more effectively across thresholds.\n",
    "* The **F1 score (0.74)** balances precision and recall well, showing good classification quality.\n",
    "* Decision Trees tend to overfit small datasets; the regularized LR (`C=1.0, L2 penalty`) provides smoother, more stable decision boundaries.\n"
   ]
  },
  {
   "cell_type": "markdown",
   "id": "1b4ef1ac",
   "metadata": {},
   "source": [
    "### Interpretability (and why it matters)\n",
    "\n",
    "For **Logistic Regression**, coefficients show directionality (positive => higher survival odds). Because we used one-hot encoding and scaling inside a pipeline, we can recover feature names:"
   ]
  },
  {
   "cell_type": "code",
   "execution_count": 16,
   "id": "63bdd50f",
   "metadata": {},
   "outputs": [
    {
     "data": {
      "text/plain": [
       "(Sex_female    1.269194\n",
       " Pclass_1      0.981693\n",
       " Embarked_Q    0.339394\n",
       " IsAlone_0     0.306533\n",
       " Fare          0.110382\n",
       " Pclass_2      0.066322\n",
       " Embarked_C    0.002356\n",
       " Parch        -0.062198\n",
       " FamilySize   -0.221154\n",
       " SibSp        -0.282905\n",
       " dtype: float64,\n",
       " Pclass_2      0.066322\n",
       " Embarked_C    0.002356\n",
       " Parch        -0.062198\n",
       " FamilySize   -0.221154\n",
       " SibSp        -0.282905\n",
       " IsAlone_1    -0.305745\n",
       " Embarked_S   -0.340961\n",
       " Age          -0.476390\n",
       " Pclass_3     -1.047227\n",
       " Sex_male     -1.268406\n",
       " dtype: float64)"
      ]
     },
     "execution_count": 16,
     "metadata": {},
     "output_type": "execute_result"
    }
   ],
   "source": [
    "best_lr = grid_lr.best_estimator_  # Pipeline(prep, model)\n",
    "prep = best_lr.named_steps['prep']\n",
    "ohe = prep.named_transformers_['cat'].named_steps['ohe']\n",
    "\n",
    "num_names = numeric_features\n",
    "cat_names = list(ohe.get_feature_names_out(categorical_features))\n",
    "feature_names = num_names + cat_names\n",
    "\n",
    "coefs = best_lr.named_steps['model'].coef_.ravel()\n",
    "importance = pd.Series(coefs, index=feature_names).sort_values(ascending=False)\n",
    "importance.head(10), importance.tail(10)\n"
   ]
  },
  {
   "cell_type": "markdown",
   "id": "0c5f0237",
   "metadata": {},
   "source": [
    "### Final training and results\n",
    "\n",
    "Using `best_lr`, refit on **all** of `train_fe` for maximum data use, then predict `test_fe`."
   ]
  },
  {
   "cell_type": "code",
   "execution_count": null,
   "id": "580c016f",
   "metadata": {},
   "outputs": [],
   "source": [
    "# Refit best model on ALL training data\n",
    "best_model = grid_lr.best_estimator_\n",
    "best_model.fit(X, y)\n",
    "\n",
    "# Ensure test has the same engineered features/columns:\n",
    "X_test = test_fe[FEATURES]\n",
    "\n",
    "test_pred = best_model.predict(X_test)\n",
    "\n",
    "submission = pd.DataFrame({\n",
    "    'PassengerId': test_fe['PassengerId'],\n",
    "    'Survived': test_pred.astype(int)\n",
    "})\n",
    "submission.to_csv(\"results.csv\", index=False)\n",
    "submission.head()\n"
   ]
  }
 ],
 "metadata": {
  "kernelspec": {
   "display_name": ".venv",
   "language": "python",
   "name": "python3"
  },
  "language_info": {
   "codemirror_mode": {
    "name": "ipython",
    "version": 3
   },
   "file_extension": ".py",
   "mimetype": "text/x-python",
   "name": "python",
   "nbconvert_exporter": "python",
   "pygments_lexer": "ipython3",
   "version": "3.14.0"
  }
 },
 "nbformat": 4,
 "nbformat_minor": 5
}
